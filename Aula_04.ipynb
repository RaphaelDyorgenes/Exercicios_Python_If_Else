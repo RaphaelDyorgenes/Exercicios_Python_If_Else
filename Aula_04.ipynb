{
  "cells": [
    {
      "cell_type": "code",
      "execution_count": null,
      "id": "00c29ad9",
      "metadata": {
        "id": "00c29ad9",
        "outputId": "6948940d-3185-41e7-fca8-3a179939e11f"
      },
      "outputs": [
        {
          "name": "stdout",
          "output_type": "stream",
          "text": [
            "Insira um número: 5\n",
            "Insira o segundo número: 6\n"
          ]
        }
      ],
      "source": [
        "#Exercicio 1\n",
        "\n",
        "n1 = int(input(\"Insira um número: \"))\n",
        "n2 = int(input(\"Insira o segundo número: \"))\n",
        "\n",
        "if n1+n2 > 15:\n",
        "    print(n1+n2)"
      ]
    },
    {
      "cell_type": "code",
      "execution_count": null,
      "id": "c460b193",
      "metadata": {
        "id": "c460b193",
        "outputId": "1d1c9b01-b09e-43b5-a1d7-816c18863975"
      },
      "outputs": [
        {
          "name": "stdout",
          "output_type": "stream",
          "text": [
            "Insira um número: -2\n",
            "O número é negativo\n"
          ]
        }
      ],
      "source": [
        "#Exercicio 2\n",
        "\n",
        "n1 = int(input(\"Insira um número: \"))\n",
        "\n",
        "if n1 == 0:\n",
        "    print(\"O número é neutro\")\n",
        "elif n1 > 0:\n",
        "    print(\"O número é positivo\")\n",
        "else:\n",
        "    print(\"O número é negativo\")"
      ]
    },
    {
      "cell_type": "code",
      "execution_count": null,
      "id": "b9605c11",
      "metadata": {
        "id": "b9605c11",
        "outputId": "b31c37ae-d28c-4b4a-b26f-6968c33fbac0"
      },
      "outputs": [
        {
          "name": "stdout",
          "output_type": "stream",
          "text": [
            "Insira sua idade: 18\n",
            "Você é menor de idade\n"
          ]
        }
      ],
      "source": [
        "#Exercicio 3\n",
        "\n",
        "idade = int(input(\"Insira sua idade: \"))\n",
        "\n",
        "if idade >= 18:\n",
        "    print(\"Você é maior de idade\")\n",
        "else:\n",
        "    print(\"Você é menor de idade\")"
      ]
    },
    {
      "cell_type": "code",
      "execution_count": null,
      "id": "6941f553",
      "metadata": {
        "id": "6941f553",
        "outputId": "8dfa55fd-b984-4fd2-d047-7ee155a7232f"
      },
      "outputs": [
        {
          "name": "stdout",
          "output_type": "stream",
          "text": [
            "Qual a temperatura de agora? 30\n",
            "Então está quente\n"
          ]
        }
      ],
      "source": [
        "#Exercicio 4\n",
        "\n",
        "temp = int(input(\"Qual a temperatura de agora? \"))\n",
        "\n",
        "if temp < 19:\n",
        "    print(\"Então está frio\")\n",
        "elif temp > 24:\n",
        "    print(\"Então está quente\")\n",
        "else:\n",
        "    print(\"Então está agradavel\")"
      ]
    },
    {
      "cell_type": "code",
      "execution_count": null,
      "id": "54039c32",
      "metadata": {
        "id": "54039c32"
      },
      "outputs": [],
      "source": [
        "#Exercicio 5\n",
        "\n",
        "n1 = int(input(\"Insira um número: \"))\n",
        "n2 = int(input(\"Insira o segundo número: \"))\n",
        "\n",
        "if n1 == n2:\n",
        "    print(\"Os números são iguais\")\n",
        "else:\n",
        "    print(\"Os números são diferentes\")"
      ]
    },
    {
      "cell_type": "code",
      "execution_count": null,
      "id": "c999a7ab",
      "metadata": {
        "id": "c999a7ab",
        "outputId": "70ae9f34-d201-4199-c252-f7010c9c842b"
      },
      "outputs": [
        {
          "name": "stdout",
          "output_type": "stream",
          "text": [
            "Insira a senha secreta: 1234\n",
            "ACESSO PERMITIDO\n"
          ]
        }
      ],
      "source": [
        "#Exercico 6\n",
        "\n",
        "senha = str(1234)\n",
        "senhar = str(input(\"Insira a senha secreta: \"))\n",
        "\n",
        "if senhar == senha :\n",
        "    print(\"ACESSO PERMITIDO\")\n",
        "else:\n",
        "    print(\"ACESSO NEGADO\")"
      ]
    },
    {
      "cell_type": "code",
      "execution_count": null,
      "id": "47415100",
      "metadata": {
        "id": "47415100"
      },
      "outputs": [],
      "source": [
        "#Exercicio 7\n",
        "\n",
        "n1 = int(input(\"Insira a primeira nota: \"))\n",
        "n2 = int(input(\"Insira a segunda nota: \"))\n",
        "media = (n1 + n2)/2\n",
        "status = 0\n",
        "\n",
        "if media >= 7:\n",
        "    status = \"Aprovado\"\n",
        "elif media < 5:\n",
        "    status = \"Reprovado\"\n",
        "else:\n",
        "    status = \"Recuperação\"\n",
        "\n",
        "print(status)"
      ]
    },
    {
      "cell_type": "code",
      "execution_count": null,
      "id": "b06b192d",
      "metadata": {
        "id": "b06b192d",
        "outputId": "6bcef56a-b153-4d4b-da8b-051ded8405ca"
      },
      "outputs": [
        {
          "name": "stdout",
          "output_type": "stream",
          "text": [
            "Insira o número de gols do primeiro time: 2\n",
            "Insira o número de gols do segundo time: 2\n",
            "Empate\n"
          ]
        }
      ],
      "source": [
        "#Exercicio 8\n",
        "\n",
        "t1 = int(input(\"Insira o número de gols do primeiro time: \"))\n",
        "t2 = int(input(\"Insira o número de gols do segundo time: \"))\n",
        "resultado = 0\n",
        "\n",
        "if t1 > t2:\n",
        "    resultado = \"O primeiro time ganhou !!!\"\n",
        "elif t1 < t2:\n",
        "    resultado = \"O segundo time ganhou !!!\"\n",
        "else:\n",
        "    resultado = \"Empate\"\n",
        "\n",
        "print(resultado)"
      ]
    },
    {
      "cell_type": "code",
      "execution_count": null,
      "id": "84cdebf8",
      "metadata": {
        "id": "84cdebf8",
        "outputId": "909f7a34-e3cc-4ab1-86d9-0864fe4097a4"
      },
      "outputs": [
        {
          "name": "stdout",
          "output_type": "stream",
          "text": [
            "Em qual tuno você estuda? \n",
            "Digite: \n",
            "m - manhã \n",
            "t - tarde \n",
            "n - noite\n",
            "2\n",
            "Boa noite\n"
          ]
        }
      ],
      "source": [
        "#Exercicio 9\n",
        "\n",
        "turno = str(input(\"Em qual tuno você estuda? \\nDigite: \\nm - manhã \\nt - tarde \\nn - noite\\n\"))\n",
        "\n",
        "if turno == \"m\":\n",
        "    print(\"Bom dia!\")\n",
        "elif turno == \"t\":\n",
        "    print(\"Boa tarde!\")\n",
        "else:\n",
        "    print(\"Boa noite\")"
      ]
    },
    {
      "cell_type": "code",
      "execution_count": null,
      "id": "a674270f",
      "metadata": {
        "id": "a674270f",
        "outputId": "c4ebd9dc-15d5-47d3-af04-97e024bc71c5"
      },
      "outputs": [
        {
          "name": "stdout",
          "output_type": "stream",
          "text": [
            "Insira sua idade: 71\n",
            "Idoso\n"
          ]
        }
      ],
      "source": [
        "#Exercicio 10\n",
        "\n",
        "idade = int(input(\"Insira sua idade: \"))\n",
        "\n",
        "if idade <= 11:\n",
        "    status = \"Criança\"\n",
        "elif idade <= 18:\n",
        "    status = \"Adolescente\"\n",
        "elif idade <= 24:\n",
        "    status = \"Jovem\"\n",
        "elif idade <= 40:\n",
        "    status = \"Adulto\"\n",
        "elif idade <= 60:\n",
        "    status = \"Meia idade\"\n",
        "else:\n",
        "    status = \"Idoso\"\n",
        "\n",
        "print(status)"
      ]
    },
    {
      "cell_type": "code",
      "execution_count": null,
      "id": "9624830c",
      "metadata": {
        "id": "9624830c",
        "outputId": "74189a8a-9baf-4916-aa3d-d68bc67395e4"
      },
      "outputs": [
        {
          "name": "stdout",
          "output_type": "stream",
          "text": [
            "Qual o valor do salário do funcionário? 290\n",
            "O salário base era R$290 e teve um aumento de 15%,\n",
            "aumentou R$43.5 o salário passou a ser R$333.5\n"
          ]
        }
      ],
      "source": [
        "#Exercicio 11\n",
        "\n",
        "base = int(input(\"Qual o valor do salário do funcionário? \"))\n",
        "poncentagem = 0\n",
        "\n",
        "if base <= 280:\n",
        "    porcentagem = 0.2\n",
        "elif base <= 700:\n",
        "    porcentagem = 0.15\n",
        "elif base <= 1500:\n",
        "    porcentagem = 0.1\n",
        "else:\n",
        "    porcentagem = 0.05\n",
        "\n",
        "print(f\"O salário base era R${base} e teve um aumento de {int(porcentagem*100)}%,\\n\"\n",
        "     f\"aumentou R${base*porcentagem} o salário passou a ser R${base*(1+porcentagem)}\")"
      ]
    },
    {
      "cell_type": "code",
      "execution_count": null,
      "id": "5b0c647d",
      "metadata": {
        "id": "5b0c647d",
        "outputId": "5001af13-9682-4a34-e823-7021dfd4d81d"
      },
      "outputs": [
        {
          "name": "stdout",
          "output_type": "stream",
          "text": [
            "Insira um número de 1 até 72\n",
            "O dia da semana é Segunda\n"
          ]
        }
      ],
      "source": [
        "#Exercicio 12\n",
        "\n",
        "dia = int(input(\"Insira um número de 1 até 7\"))\n",
        "dia_semana = 0\n",
        "\n",
        "if dia == 1:\n",
        "    dia_semana = \"Domingo\"\n",
        "elif dia == 2:\n",
        "    dia_semana = \"Segunda\"\n",
        "elif dia == 3:\n",
        "    dia_semana = \"Terça\"\n",
        "elif dia == 2:\n",
        "    dia_semana = \"Quarta\"\n",
        "elif dia == 2:\n",
        "    dia_semana = \"Quinta\"\n",
        "elif dia == 2:\n",
        "    dia_semana = \"Sexta\"\n",
        "elif dia == 2:\n",
        "    dia_semana = \"Sabado\"\n",
        "else:\n",
        "    dia_semana = \"Valor inválido\"\n",
        "\n",
        "print(\"O dia da semana é\", dia_semana)"
      ]
    }
  ],
  "metadata": {
    "kernelspec": {
      "display_name": "Python 3 (ipykernel)",
      "language": "python",
      "name": "python3"
    },
    "language_info": {
      "codemirror_mode": {
        "name": "ipython",
        "version": 3
      },
      "file_extension": ".py",
      "mimetype": "text/x-python",
      "name": "python",
      "nbconvert_exporter": "python",
      "pygments_lexer": "ipython3",
      "version": "3.11.5"
    },
    "colab": {
      "provenance": []
    }
  },
  "nbformat": 4,
  "nbformat_minor": 5
}