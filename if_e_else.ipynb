{
  "cells": [
    {
      "cell_type": "code",
      "execution_count": null,
      "id": "17141d82",
      "metadata": {
        "id": "17141d82",
        "outputId": "481e08aa-35c5-4a39-bbb4-44cbb79967b7"
      },
      "outputs": [
        {
          "name": "stdout",
          "output_type": "stream",
          "text": [
            "Insira um número: 5\n",
            "Insira o segundo número: 6\n"
          ]
        }
      ],
      "source": [
        "#Exercicio 1\n",
        "\n",
        "n1 = int(input(\"Insira um número: \"))\n",
        "n2 = int(input(\"Insira o segundo número: \"))\n",
        "\n",
        "if n1+n2 > 15:\n",
        "    print(n1+n2)"
      ]
    },
    {
      "cell_type": "code",
      "execution_count": null,
      "id": "158e976f",
      "metadata": {
        "id": "158e976f",
        "outputId": "f68a9c76-6f8e-4052-a9bf-c571d85e927f"
      },
      "outputs": [
        {
          "name": "stdout",
          "output_type": "stream",
          "text": [
            "Insira um número: -2\n",
            "O número é negativo\n"
          ]
        }
      ],
      "source": [
        "#Exercicio 2\n",
        "\n",
        "n1 = int(input(\"Insira um número: \"))\n",
        "\n",
        "if n1 == 0:\n",
        "    print(\"O número é neutro\")\n",
        "elif n1 > 0:\n",
        "    print(\"O número é positivo\")\n",
        "else:\n",
        "    print(\"O número é negativo\")"
      ]
    },
    {
      "cell_type": "code",
      "execution_count": null,
      "id": "fd35878e",
      "metadata": {
        "id": "fd35878e",
        "outputId": "de67bf95-c301-4020-aec3-1810772fc56b"
      },
      "outputs": [
        {
          "name": "stdout",
          "output_type": "stream",
          "text": [
            "Insira sua idade: 18\n",
            "Você é menor de idade\n"
          ]
        }
      ],
      "source": [
        "#Exercicio 3\n",
        "\n",
        "idade = int(input(\"Insira sua idade: \"))\n",
        "\n",
        "if idade >= 18:\n",
        "    print(\"Você é maior de idade\")\n",
        "else:\n",
        "    print(\"Você é menor de idade\")"
      ]
    },
    {
      "cell_type": "code",
      "execution_count": null,
      "id": "97a2f030",
      "metadata": {
        "id": "97a2f030",
        "outputId": "e391fb37-d59f-4d96-9132-ad66a9d36f5e"
      },
      "outputs": [
        {
          "name": "stdout",
          "output_type": "stream",
          "text": [
            "Qual a temperatura de agora? 30\n",
            "Então está quente\n"
          ]
        }
      ],
      "source": [
        "#Exercicio 4\n",
        "\n",
        "temp = int(input(\"Qual a temperatura de agora? \"))\n",
        "\n",
        "if temp < 19:\n",
        "    print(\"Então está frio\")\n",
        "elif temp > 24:\n",
        "    print(\"Então está quente\")\n",
        "else:\n",
        "    print(\"Então está agradavel\")"
      ]
    },
    {
      "cell_type": "code",
      "execution_count": null,
      "id": "2444feb5",
      "metadata": {
        "id": "2444feb5"
      },
      "outputs": [],
      "source": [
        "#Exercicio 5\n",
        "\n",
        "n1 = int(input(\"Insira um número: \"))\n",
        "n2 = int(input(\"Insira o segundo número: \"))\n",
        "\n",
        "if n1 == n2:\n",
        "    print(\"Os números são iguais\")\n",
        "else:\n",
        "    print(\"Os números são diferentes\")"
      ]
    },
    {
      "cell_type": "code",
      "execution_count": null,
      "id": "bc670a80",
      "metadata": {
        "id": "bc670a80",
        "outputId": "582b2caa-1223-4b9f-e433-3abe6f8ab49d"
      },
      "outputs": [
        {
          "name": "stdout",
          "output_type": "stream",
          "text": [
            "Insira a senha secreta: 1234\n",
            "ACESSO PERMITIDO\n"
          ]
        }
      ],
      "source": [
        "#Exercico 6\n",
        "\n",
        "senha = str(1234)\n",
        "senhar = str(input(\"Insira a senha secreta: \"))\n",
        "\n",
        "if senhar == senha :\n",
        "    print(\"ACESSO PERMITIDO\")\n",
        "else:\n",
        "    print(\"ACESSO NEGADO\")"
      ]
    },
    {
      "cell_type": "code",
      "execution_count": null,
      "id": "babb69ed",
      "metadata": {
        "id": "babb69ed"
      },
      "outputs": [],
      "source": [
        "#Exercicio 7\n",
        "\n",
        "n1 = int(input(\"Insira a primeira nota: \"))\n",
        "n2 = int(input(\"Insira a segunda nota: \"))\n",
        "media = (n1 + n2)/2\n",
        "status = 0\n",
        "\n",
        "if media >= 7:\n",
        "    status = \"Aprovado\"\n",
        "elif media < 5:\n",
        "    status = \"Reprovado\"\n",
        "else:\n",
        "    status = \"Recuperação\"\n",
        "\n",
        "print(status)"
      ]
    },
    {
      "cell_type": "code",
      "execution_count": null,
      "id": "789e065e",
      "metadata": {
        "id": "789e065e",
        "outputId": "bf86417a-6fce-4aa0-84e5-7b11b29d2096"
      },
      "outputs": [
        {
          "name": "stdout",
          "output_type": "stream",
          "text": [
            "Insira o número de gols do primeiro time: 2\n",
            "Insira o número de gols do segundo time: 2\n",
            "Empate\n"
          ]
        }
      ],
      "source": [
        "#Exercicio 8\n",
        "\n",
        "t1 = int(input(\"Insira o número de gols do primeiro time: \"))\n",
        "t2 = int(input(\"Insira o número de gols do segundo time: \"))\n",
        "resultado = 0\n",
        "\n",
        "if t1 > t2:\n",
        "    resultado = \"O primeiro time ganhou !!!\"\n",
        "elif t1 < t2:\n",
        "    resultado = \"O segundo time ganhou !!!\"\n",
        "else:\n",
        "    resultado = \"Empate\"\n",
        "\n",
        "print(resultado)"
      ]
    },
    {
      "cell_type": "code",
      "execution_count": null,
      "id": "215f9af0",
      "metadata": {
        "id": "215f9af0",
        "outputId": "6944d2d1-938b-4196-9c58-e0340828e84d"
      },
      "outputs": [
        {
          "name": "stdout",
          "output_type": "stream",
          "text": [
            "Em qual tuno você estuda? \n",
            "Digite: \n",
            "m - manhã \n",
            "t - tarde \n",
            "n - noite\n",
            "2\n",
            "Boa noite\n"
          ]
        }
      ],
      "source": [
        "#Exercicio 9\n",
        "\n",
        "turno = str(input(\"Em qual tuno você estuda? \\nDigite: \\nm - manhã \\nt - tarde \\nn - noite\\n\"))\n",
        "\n",
        "if turno == \"m\":\n",
        "    print(\"Bom dia!\")\n",
        "elif turno == \"t\":\n",
        "    print(\"Boa tarde!\")\n",
        "else:\n",
        "    print(\"Boa noite\")"
      ]
    },
    {
      "cell_type": "code",
      "execution_count": null,
      "id": "b0fd9468",
      "metadata": {
        "id": "b0fd9468",
        "outputId": "f2e4ab0c-4d3b-4964-8fd0-04296faee5b6"
      },
      "outputs": [
        {
          "name": "stdout",
          "output_type": "stream",
          "text": [
            "Insira sua idade: 71\n",
            "Idoso\n"
          ]
        }
      ],
      "source": [
        "#Exercicio 10\n",
        "\n",
        "idade = int(input(\"Insira sua idade: \"))\n",
        "\n",
        "if idade <= 11:\n",
        "    status = \"Criança\"\n",
        "elif idade <= 18:\n",
        "    status = \"Adolescente\"\n",
        "elif idade <= 24:\n",
        "    status = \"Jovem\"\n",
        "elif idade <= 40:\n",
        "    status = \"Adulto\"\n",
        "elif idade <= 60:\n",
        "    status = \"Meia idade\"\n",
        "else:\n",
        "    status = \"Idoso\"\n",
        "\n",
        "print(status)"
      ]
    },
    {
      "cell_type": "code",
      "execution_count": null,
      "id": "48de9ee2",
      "metadata": {
        "id": "48de9ee2",
        "outputId": "9b6e6d35-4db4-427f-f117-932a1636fc78"
      },
      "outputs": [
        {
          "name": "stdout",
          "output_type": "stream",
          "text": [
            "Qual o valor do salário do funcionário? 290\n",
            "O salário base era R$290 e teve um aumento de 15%,\n",
            "aumentou R$43.5 o salário passou a ser R$333.5\n"
          ]
        }
      ],
      "source": [
        "#Exercicio 11\n",
        "\n",
        "base = int(input(\"Qual o valor do salário do funcionário? \"))\n",
        "poncentagem = 0\n",
        "\n",
        "if base <= 280:\n",
        "    porcentagem = 0.2\n",
        "elif base <= 700:\n",
        "    porcentagem = 0.15\n",
        "elif base <= 1500:\n",
        "    porcentagem = 0.1\n",
        "else:\n",
        "    porcentagem = 0.05\n",
        "\n",
        "print(f\"O salário base era R${base} e teve um aumento de {int(porcentagem*100)}%,\\n\"\n",
        "     f\"aumentou R${base*porcentagem} o salário passou a ser R${base*(1+porcentagem)}\")"
      ]
    },
    {
      "cell_type": "code",
      "execution_count": null,
      "id": "27737006",
      "metadata": {
        "id": "27737006",
        "outputId": "f2363969-12fd-403b-af19-e842e811c8fc"
      },
      "outputs": [
        {
          "name": "stdout",
          "output_type": "stream",
          "text": [
            "Insira um número de 1 até 72\n",
            "O dia da semana é Segunda\n"
          ]
        }
      ],
      "source": [
        "#Exercicio 12\n",
        "\n",
        "dia = int(input(\"Insira um número de 1 até 7\"))\n",
        "dia_semana = 0\n",
        "\n",
        "if dia == 1:\n",
        "    dia_semana = \"Domingo\"\n",
        "elif dia == 2:\n",
        "    dia_semana = \"Segunda\"\n",
        "elif dia == 3:\n",
        "    dia_semana = \"Terça\"\n",
        "elif dia == 2:\n",
        "    dia_semana = \"Quarta\"\n",
        "elif dia == 2:\n",
        "    dia_semana = \"Quinta\"\n",
        "elif dia == 2:\n",
        "    dia_semana = \"Sexta\"\n",
        "elif dia == 2:\n",
        "    dia_semana = \"Sabado\"\n",
        "else:\n",
        "    dia_semana = \"Valor inválido\"\n",
        "\n",
        "print(\"O dia da semana é\", dia_semana)"
      ]
    },
    {
      "cell_type": "code",
      "execution_count": null,
      "id": "d37c9d7a",
      "metadata": {
        "id": "d37c9d7a",
        "outputId": "8365ce41-cf2d-4cec-82e0-196f4ecbded1"
      },
      "outputs": [
        {
          "name": "stdout",
          "output_type": "stream",
          "text": [
            "A temperatura atual é 30°C, que converter para F°? s/nn\n",
            "A temperatura permanece 30 °C\n"
          ]
        }
      ],
      "source": [
        "#Exercicio 13\n",
        "temp = 30\n",
        "tipo = 0\n",
        "\n",
        "unidade = str(input(f\"A temperatura atual é {temp}°C, que converter para F°? s/n\"))\n",
        "\n",
        "if unidade == \"s\":\n",
        "    temp = temp*1.8+32\n",
        "    tipo = \"°F\"\n",
        "    print(f\"A temperatura agora é {temp} {tipo}\")\n",
        "\n",
        "else:\n",
        "    temp = temp\n",
        "    tipo = \"°C\"\n",
        "    print(f\"A temperatura permanece {temp} {tipo}\")\n",
        "\n"
      ]
    },
    {
      "cell_type": "code",
      "execution_count": null,
      "id": "d80eb020",
      "metadata": {
        "id": "d80eb020",
        "outputId": "a976da5b-0412-44a1-bcae-a906603d4f18"
      },
      "outputs": [
        {
          "name": "stdout",
          "output_type": "stream",
          "text": [
            "Insira sua idade: 60\n",
            "Obrigatório\n"
          ]
        }
      ],
      "source": [
        "#Exercicio 14\n",
        "\n",
        "idade = int(input(\"Insira sua idade: \"))\n",
        "\n",
        "if idade <= 16:\n",
        "    status = \"proibido\"\n",
        "elif idade <= 18:\n",
        "    status = \"Optativo\"\n",
        "else:\n",
        "    status = \"Obrigatório\"\n",
        "\n",
        "print(status)"
      ]
    },
    {
      "cell_type": "code",
      "execution_count": null,
      "id": "f99e6e67",
      "metadata": {
        "colab": {
          "base_uri": "https://localhost:8080/"
        },
        "id": "f99e6e67",
        "outputId": "4aaf62ac-f0ac-4b98-bc92-4af25af1d07b"
      },
      "outputs": [
        {
          "output_type": "stream",
          "name": "stdout",
          "text": [
            "Por favor responda as pergutas relacionadas ao crime\n",
            "Você telefonou para a vítima?sim\n",
            "Esteve no local do crime?nao\n",
            "Mora perto da vítima?sim\n",
            "Devia para a vítima?sim\n",
            "Já trabalhou com a vítima?nao\n",
            "Cumplice\n"
          ]
        }
      ],
      "source": [
        "#Exercicio 15\n",
        "\n",
        "print(\"Por favor responda as pergutas relacionadas ao crime\")\n",
        "r1 = input(\"Você telefonou para a vítima?\").lower()\n",
        "r2 = input(\"Esteve no local do crime?\").lower()\n",
        "r3 = input(\"Mora perto da vítima?\").lower()\n",
        "r4 = input(\"Devia para a vítima?\").lower()\n",
        "r5 = input(\"Já trabalhou com a vítima?\").lower()\n",
        "\n",
        "positivas = 0\n",
        "\n",
        "if r1 == \"sim\":\n",
        "  positivas += 1\n",
        "if r2 == \"sim\":\n",
        "  positivas += 1\n",
        "if r3 == \"sim\":\n",
        "  positivas += 1\n",
        "if r4 == \"sim\":\n",
        "  positivas += 1\n",
        "if r5 == \"sim\":\n",
        "  positivas += 1\n",
        "\n",
        "if positivas == 2:\n",
        "  print(\"Suspeita\")\n",
        "elif positivas <= 4:\n",
        "  print(\"Cumplice\")\n",
        "elif positivas == 5:\n",
        "  print(\"Assacino\")\n",
        "else:\n",
        "  print(\"Inoscente\")"
      ]
    },
    {
      "cell_type": "code",
      "execution_count": null,
      "id": "76ef8eac",
      "metadata": {
        "colab": {
          "base_uri": "https://localhost:8080/"
        },
        "id": "76ef8eac",
        "outputId": "6227ad93-fdd2-42de-ec5d-5941e2fea38e"
      },
      "outputs": [
        {
          "output_type": "stream",
          "name": "stdout",
          "text": [
            "Qual o valor do produto 1: 1\n",
            "Qual o valor do produto 2: 5\n",
            "Qual o valor do produto 3: 1\n",
            "O produto com menor valor custa R$ 1\n"
          ]
        }
      ],
      "source": [
        "#Exercicio 17\n",
        "\n",
        "\n",
        "produto1 = int(input(\"Qual o valor do produto 1: \"))\n",
        "produto2 = int(input(\"Qual o valor do produto 2: \"))\n",
        "produto3 = int(input(\"Qual o valor do produto 3: \"))\n",
        "\n",
        "print(f\"O produto com menor valor custa R$ {min(produto1,produto2,produto3,)}\")"
      ]
    },
    {
      "cell_type": "markdown",
      "source": [
        "Var\n",
        "  x,r\n",
        "\n",
        "inicio\n",
        "  multiplique X 12 vezes e coloque em r\n",
        "\n",
        "  para I de 1 até 5  passo 1 faça\n",
        "    I <- I + 1\n",
        "    escreva (R)\n",
        "  fim"
      ],
      "metadata": {
        "id": "loQjXmGzZ0AD"
      },
      "id": "loQjXmGzZ0AD"
    },
    {
      "cell_type": "code",
      "source": [
        "for i in range (1,5):\n",
        "  x = int(input(\"Digite um numero\"))\n",
        "  r = x*12\n",
        "  print(r)"
      ],
      "metadata": {
        "id": "qdfehMz8flet"
      },
      "id": "qdfehMz8flet",
      "execution_count": null,
      "outputs": []
    }
  ],
  "metadata": {
    "kernelspec": {
      "display_name": "Python 3 (ipykernel)",
      "language": "python",
      "name": "python3"
    },
    "language_info": {
      "codemirror_mode": {
        "name": "ipython",
        "version": 3
      },
      "file_extension": ".py",
      "mimetype": "text/x-python",
      "name": "python",
      "nbconvert_exporter": "python",
      "pygments_lexer": "ipython3",
      "version": "3.11.5"
    },
    "colab": {
      "provenance": []
    }
  },
  "nbformat": 4,
  "nbformat_minor": 5
}